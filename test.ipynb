{
 "cells": [
  {
   "cell_type": "code",
   "execution_count": 1,
   "metadata": {},
   "outputs": [
    {
     "data": {
      "text/html": [
       "<div>\n",
       "<style scoped>\n",
       "    .dataframe tbody tr th:only-of-type {\n",
       "        vertical-align: middle;\n",
       "    }\n",
       "\n",
       "    .dataframe tbody tr th {\n",
       "        vertical-align: top;\n",
       "    }\n",
       "\n",
       "    .dataframe thead th {\n",
       "        text-align: right;\n",
       "    }\n",
       "</style>\n",
       "<table border=\"1\" class=\"dataframe\">\n",
       "  <thead>\n",
       "    <tr style=\"text-align: right;\">\n",
       "      <th></th>\n",
       "      <th>date</th>\n",
       "      <th>serial_number</th>\n",
       "      <th>model</th>\n",
       "      <th>capacity_bytes</th>\n",
       "      <th>failure</th>\n",
       "      <th>datacenter</th>\n",
       "      <th>cluster_id</th>\n",
       "      <th>vault_id</th>\n",
       "      <th>pod_id</th>\n",
       "      <th>pod_slot_num</th>\n",
       "      <th>...</th>\n",
       "      <th>smart_250_normalized</th>\n",
       "      <th>smart_250_raw</th>\n",
       "      <th>smart_251_normalized</th>\n",
       "      <th>smart_251_raw</th>\n",
       "      <th>smart_252_normalized</th>\n",
       "      <th>smart_252_raw</th>\n",
       "      <th>smart_254_normalized</th>\n",
       "      <th>smart_254_raw</th>\n",
       "      <th>smart_255_normalized</th>\n",
       "      <th>smart_255_raw</th>\n",
       "    </tr>\n",
       "  </thead>\n",
       "  <tbody>\n",
       "    <tr>\n",
       "      <th>0</th>\n",
       "      <td>2024-07-01</td>\n",
       "      <td>PL1331LAGXN3AH</td>\n",
       "      <td>HGST HDS5C4040ALE630</td>\n",
       "      <td>4000787030016</td>\n",
       "      <td>0</td>\n",
       "      <td>sac0</td>\n",
       "      <td>0</td>\n",
       "      <td>1021</td>\n",
       "      <td>0</td>\n",
       "      <td>39.0</td>\n",
       "      <td>...</td>\n",
       "      <td>NaN</td>\n",
       "      <td>NaN</td>\n",
       "      <td>NaN</td>\n",
       "      <td>NaN</td>\n",
       "      <td>NaN</td>\n",
       "      <td>NaN</td>\n",
       "      <td>NaN</td>\n",
       "      <td>NaN</td>\n",
       "      <td>NaN</td>\n",
       "      <td>NaN</td>\n",
       "    </tr>\n",
       "    <tr>\n",
       "      <th>1</th>\n",
       "      <td>2024-07-01</td>\n",
       "      <td>PL2331LAGSTSYJ</td>\n",
       "      <td>HGST HMS5C4040ALE640</td>\n",
       "      <td>4000787030016</td>\n",
       "      <td>0</td>\n",
       "      <td>sac0</td>\n",
       "      <td>0</td>\n",
       "      <td>1021</td>\n",
       "      <td>0</td>\n",
       "      <td>0.0</td>\n",
       "      <td>...</td>\n",
       "      <td>NaN</td>\n",
       "      <td>NaN</td>\n",
       "      <td>NaN</td>\n",
       "      <td>NaN</td>\n",
       "      <td>NaN</td>\n",
       "      <td>NaN</td>\n",
       "      <td>NaN</td>\n",
       "      <td>NaN</td>\n",
       "      <td>NaN</td>\n",
       "      <td>NaN</td>\n",
       "    </tr>\n",
       "    <tr>\n",
       "      <th>2</th>\n",
       "      <td>2024-07-01</td>\n",
       "      <td>S2ZYJ9FG405079</td>\n",
       "      <td>ST500LM012 HN</td>\n",
       "      <td>500107862016</td>\n",
       "      <td>0</td>\n",
       "      <td>sac0</td>\n",
       "      <td>0</td>\n",
       "      <td>1021</td>\n",
       "      <td>0</td>\n",
       "      <td>NaN</td>\n",
       "      <td>...</td>\n",
       "      <td>NaN</td>\n",
       "      <td>NaN</td>\n",
       "      <td>NaN</td>\n",
       "      <td>NaN</td>\n",
       "      <td>NaN</td>\n",
       "      <td>NaN</td>\n",
       "      <td>NaN</td>\n",
       "      <td>NaN</td>\n",
       "      <td>NaN</td>\n",
       "      <td>NaN</td>\n",
       "    </tr>\n",
       "    <tr>\n",
       "      <th>3</th>\n",
       "      <td>2024-07-01</td>\n",
       "      <td>Z3056CGY</td>\n",
       "      <td>ST4000DM000</td>\n",
       "      <td>4000787030016</td>\n",
       "      <td>0</td>\n",
       "      <td>sac0</td>\n",
       "      <td>0</td>\n",
       "      <td>1021</td>\n",
       "      <td>0</td>\n",
       "      <td>21.0</td>\n",
       "      <td>...</td>\n",
       "      <td>NaN</td>\n",
       "      <td>NaN</td>\n",
       "      <td>NaN</td>\n",
       "      <td>NaN</td>\n",
       "      <td>NaN</td>\n",
       "      <td>NaN</td>\n",
       "      <td>NaN</td>\n",
       "      <td>NaN</td>\n",
       "      <td>NaN</td>\n",
       "      <td>NaN</td>\n",
       "    </tr>\n",
       "  </tbody>\n",
       "</table>\n",
       "<p>4 rows × 197 columns</p>\n",
       "</div>"
      ],
      "text/plain": [
       "         date   serial_number                 model  capacity_bytes  failure  \\\n",
       "0  2024-07-01  PL1331LAGXN3AH  HGST HDS5C4040ALE630   4000787030016        0   \n",
       "1  2024-07-01  PL2331LAGSTSYJ  HGST HMS5C4040ALE640   4000787030016        0   \n",
       "2  2024-07-01  S2ZYJ9FG405079         ST500LM012 HN    500107862016        0   \n",
       "3  2024-07-01        Z3056CGY           ST4000DM000   4000787030016        0   \n",
       "\n",
       "  datacenter  cluster_id  vault_id  pod_id  pod_slot_num  ...  \\\n",
       "0       sac0           0      1021       0          39.0  ...   \n",
       "1       sac0           0      1021       0           0.0  ...   \n",
       "2       sac0           0      1021       0           NaN  ...   \n",
       "3       sac0           0      1021       0          21.0  ...   \n",
       "\n",
       "   smart_250_normalized  smart_250_raw  smart_251_normalized  smart_251_raw  \\\n",
       "0                   NaN            NaN                   NaN            NaN   \n",
       "1                   NaN            NaN                   NaN            NaN   \n",
       "2                   NaN            NaN                   NaN            NaN   \n",
       "3                   NaN            NaN                   NaN            NaN   \n",
       "\n",
       "   smart_252_normalized  smart_252_raw  smart_254_normalized  smart_254_raw  \\\n",
       "0                   NaN            NaN                   NaN            NaN   \n",
       "1                   NaN            NaN                   NaN            NaN   \n",
       "2                   NaN            NaN                   NaN            NaN   \n",
       "3                   NaN            NaN                   NaN            NaN   \n",
       "\n",
       "   smart_255_normalized  smart_255_raw  \n",
       "0                   NaN            NaN  \n",
       "1                   NaN            NaN  \n",
       "2                   NaN            NaN  \n",
       "3                   NaN            NaN  \n",
       "\n",
       "[4 rows x 197 columns]"
      ]
     },
     "execution_count": 1,
     "metadata": {},
     "output_type": "execute_result"
    }
   ],
   "source": [
    "import pandas as pd\n",
    "\n",
    "df = pd.read_csv(\"2024-07-01.csv\")\n",
    "df"
   ]
  },
  {
   "cell_type": "code",
   "execution_count": 2,
   "metadata": {},
   "outputs": [
    {
     "ename": "DaftCoreException",
     "evalue": "DaftError::ArrowError External error: CSV error: record 4 (line: 4, byte: 4409): found record with 114 fields, but the previous record has 197 fields",
     "output_type": "error",
     "traceback": [
      "\u001b[0;31m---------------------------------------------------------------------------\u001b[0m",
      "\u001b[0;31mDaftCoreException\u001b[0m                         Traceback (most recent call last)",
      "Cell \u001b[0;32mIn[2], line 3\u001b[0m\n\u001b[1;32m      1\u001b[0m \u001b[38;5;28;01mimport\u001b[39;00m \u001b[38;5;21;01mdaft\u001b[39;00m\n\u001b[0;32m----> 3\u001b[0m df \u001b[38;5;241m=\u001b[39m \u001b[43mdaft\u001b[49m\u001b[38;5;241;43m.\u001b[39;49m\u001b[43mread_csv\u001b[49m\u001b[43m(\u001b[49m\u001b[38;5;124;43m\"\u001b[39;49m\u001b[38;5;124;43m2024-07-01.csv\u001b[39;49m\u001b[38;5;124;43m\"\u001b[39;49m\u001b[43m)\u001b[49m\n",
      "    \u001b[0;31m[... skipping hidden 2 frame]\u001b[0m\n",
      "File \u001b[0;32m~/.local/lib/python3.13/site-packages/daft/io/_csv.py:91\u001b[0m, in \u001b[0;36mread_csv\u001b[0;34m(path, infer_schema, schema, has_headers, delimiter, double_quote, quote, escape_char, comment, allow_variable_columns, io_config, file_path_column, hive_partitioning, schema_hints, _buffer_size, _chunk_size)\u001b[0m\n\u001b[1;32m     88\u001b[0m file_format_config \u001b[38;5;241m=\u001b[39m FileFormatConfig\u001b[38;5;241m.\u001b[39mfrom_csv_config(csv_config)\n\u001b[1;32m     89\u001b[0m storage_config \u001b[38;5;241m=\u001b[39m StorageConfig(\u001b[38;5;28;01mTrue\u001b[39;00m, io_config)\n\u001b[0;32m---> 91\u001b[0m builder \u001b[38;5;241m=\u001b[39m \u001b[43mget_tabular_files_scan\u001b[49m\u001b[43m(\u001b[49m\n\u001b[1;32m     92\u001b[0m \u001b[43m    \u001b[49m\u001b[43mpath\u001b[49m\u001b[38;5;241;43m=\u001b[39;49m\u001b[43mpath\u001b[49m\u001b[43m,\u001b[49m\n\u001b[1;32m     93\u001b[0m \u001b[43m    \u001b[49m\u001b[43minfer_schema\u001b[49m\u001b[38;5;241;43m=\u001b[39;49m\u001b[43minfer_schema\u001b[49m\u001b[43m,\u001b[49m\n\u001b[1;32m     94\u001b[0m \u001b[43m    \u001b[49m\u001b[43mschema\u001b[49m\u001b[38;5;241;43m=\u001b[39;49m\u001b[43mschema\u001b[49m\u001b[43m,\u001b[49m\n\u001b[1;32m     95\u001b[0m \u001b[43m    \u001b[49m\u001b[43mfile_format_config\u001b[49m\u001b[38;5;241;43m=\u001b[39;49m\u001b[43mfile_format_config\u001b[49m\u001b[43m,\u001b[49m\n\u001b[1;32m     96\u001b[0m \u001b[43m    \u001b[49m\u001b[43mstorage_config\u001b[49m\u001b[38;5;241;43m=\u001b[39;49m\u001b[43mstorage_config\u001b[49m\u001b[43m,\u001b[49m\n\u001b[1;32m     97\u001b[0m \u001b[43m    \u001b[49m\u001b[43mfile_path_column\u001b[49m\u001b[38;5;241;43m=\u001b[39;49m\u001b[43mfile_path_column\u001b[49m\u001b[43m,\u001b[49m\n\u001b[1;32m     98\u001b[0m \u001b[43m    \u001b[49m\u001b[43mhive_partitioning\u001b[49m\u001b[38;5;241;43m=\u001b[39;49m\u001b[43mhive_partitioning\u001b[49m\u001b[43m,\u001b[49m\n\u001b[1;32m     99\u001b[0m \u001b[43m\u001b[49m\u001b[43m)\u001b[49m\n\u001b[1;32m    100\u001b[0m \u001b[38;5;28;01mreturn\u001b[39;00m DataFrame(builder)\n",
      "File \u001b[0;32m~/.local/lib/python3.13/site-packages/daft/io/common.py:39\u001b[0m, in \u001b[0;36mget_tabular_files_scan\u001b[0;34m(path, infer_schema, schema, file_format_config, storage_config, file_path_column, hive_partitioning)\u001b[0m\n\u001b[1;32m     36\u001b[0m \u001b[38;5;28;01melse\u001b[39;00m:\n\u001b[1;32m     37\u001b[0m     \u001b[38;5;28;01mraise\u001b[39;00m \u001b[38;5;167;01mNotImplementedError\u001b[39;00m(\u001b[38;5;124mf\u001b[39m\u001b[38;5;124m\"\u001b[39m\u001b[38;5;124mget_tabular_files_scan cannot construct ScanOperatorHandle for input: \u001b[39m\u001b[38;5;132;01m{\u001b[39;00mpath\u001b[38;5;132;01m}\u001b[39;00m\u001b[38;5;124m\"\u001b[39m)\n\u001b[0;32m---> 39\u001b[0m scan_op \u001b[38;5;241m=\u001b[39m \u001b[43mScanOperatorHandle\u001b[49m\u001b[38;5;241;43m.\u001b[39;49m\u001b[43mglob_scan\u001b[49m\u001b[43m(\u001b[49m\n\u001b[1;32m     40\u001b[0m \u001b[43m    \u001b[49m\u001b[43mpaths\u001b[49m\u001b[43m,\u001b[49m\n\u001b[1;32m     41\u001b[0m \u001b[43m    \u001b[49m\u001b[43mfile_format_config\u001b[49m\u001b[43m,\u001b[49m\n\u001b[1;32m     42\u001b[0m \u001b[43m    \u001b[49m\u001b[43mstorage_config\u001b[49m\u001b[43m,\u001b[49m\n\u001b[1;32m     43\u001b[0m \u001b[43m    \u001b[49m\u001b[43minfer_schema\u001b[49m\u001b[38;5;241;43m=\u001b[39;49m\u001b[43minfer_schema\u001b[49m\u001b[43m,\u001b[49m\n\u001b[1;32m     44\u001b[0m \u001b[43m    \u001b[49m\u001b[43mschema\u001b[49m\u001b[38;5;241;43m=\u001b[39;49m\u001b[43m_get_schema_from_dict\u001b[49m\u001b[43m(\u001b[49m\u001b[43mschema\u001b[49m\u001b[43m)\u001b[49m\u001b[38;5;241;43m.\u001b[39;49m\u001b[43m_schema\u001b[49m\u001b[43m \u001b[49m\u001b[38;5;28;43;01mif\u001b[39;49;00m\u001b[43m \u001b[49m\u001b[43mschema\u001b[49m\u001b[43m \u001b[49m\u001b[38;5;129;43;01mis\u001b[39;49;00m\u001b[43m \u001b[49m\u001b[38;5;129;43;01mnot\u001b[39;49;00m\u001b[43m \u001b[49m\u001b[38;5;28;43;01mNone\u001b[39;49;00m\u001b[43m \u001b[49m\u001b[38;5;28;43;01melse\u001b[39;49;00m\u001b[43m \u001b[49m\u001b[38;5;28;43;01mNone\u001b[39;49;00m\u001b[43m,\u001b[49m\n\u001b[1;32m     45\u001b[0m \u001b[43m    \u001b[49m\u001b[43mfile_path_column\u001b[49m\u001b[38;5;241;43m=\u001b[39;49m\u001b[43mfile_path_column\u001b[49m\u001b[43m,\u001b[49m\n\u001b[1;32m     46\u001b[0m \u001b[43m    \u001b[49m\u001b[43mhive_partitioning\u001b[49m\u001b[38;5;241;43m=\u001b[39;49m\u001b[43mhive_partitioning\u001b[49m\u001b[43m,\u001b[49m\n\u001b[1;32m     47\u001b[0m \u001b[43m\u001b[49m\u001b[43m)\u001b[49m\n\u001b[1;32m     49\u001b[0m builder \u001b[38;5;241m=\u001b[39m LogicalPlanBuilder\u001b[38;5;241m.\u001b[39mfrom_tabular_scan(\n\u001b[1;32m     50\u001b[0m     scan_operator\u001b[38;5;241m=\u001b[39mscan_op,\n\u001b[1;32m     51\u001b[0m )\n\u001b[1;32m     52\u001b[0m \u001b[38;5;28;01mreturn\u001b[39;00m builder\n",
      "\u001b[0;31mDaftCoreException\u001b[0m: DaftError::ArrowError External error: CSV error: record 4 (line: 4, byte: 4409): found record with 114 fields, but the previous record has 197 fields"
     ]
    }
   ],
   "source": [
    "import daft\n",
    "\n",
    "df = daft.read_csv(\"2024-07-01.csv\")"
   ]
  },
  {
   "cell_type": "code",
   "execution_count": 7,
   "metadata": {},
   "outputs": [],
   "source": [
    "import polars as pl\n",
    "\n",
    "df = pl.read_csv(\"2024-07-01.csv\")\n",
    "\n",
    "\n",
    "\n",
    "# df.write_delta(\"s3://hiep-delta-bk/ducklamb\",\n",
    "#                storage_options={\n",
    "#                    \"AWS_S3_ALLOW_UNSAFE_RENAME\": \"true\",\n",
    "#                })"
   ]
  },
  {
   "cell_type": "code",
   "execution_count": 8,
   "metadata": {},
   "outputs": [
    {
     "data": {
      "text/html": [
       "<div><style>\n",
       ".dataframe > thead > tr,\n",
       ".dataframe > tbody > tr {\n",
       "  text-align: right;\n",
       "  white-space: pre-wrap;\n",
       "}\n",
       "</style>\n",
       "<small>shape: (4, 10)</small><table border=\"1\" class=\"dataframe\"><thead><tr><th>date</th><th>serial_number</th><th>model</th><th>capacity_bytes</th><th>failure</th><th>datacenter</th><th>cluster_id</th><th>vault_id</th><th>pod_id</th><th>pod_slot_num</th></tr><tr><td>str</td><td>str</td><td>str</td><td>i64</td><td>i64</td><td>str</td><td>i64</td><td>i64</td><td>i64</td><td>i64</td></tr></thead><tbody><tr><td>&quot;2024-07-01&quot;</td><td>&quot;PL1331LAGXN3AH&quot;</td><td>&quot;HGST HDS5C4040ALE630&quot;</td><td>4000787030016</td><td>0</td><td>&quot;sac0&quot;</td><td>0</td><td>1021</td><td>0</td><td>39</td></tr><tr><td>&quot;2024-07-01&quot;</td><td>&quot;PL2331LAGSTSYJ&quot;</td><td>&quot;HGST HMS5C4040ALE640&quot;</td><td>4000787030016</td><td>0</td><td>&quot;sac0&quot;</td><td>0</td><td>1021</td><td>0</td><td>0</td></tr><tr><td>&quot;2024-07-01&quot;</td><td>&quot;S2ZYJ9FG405079&quot;</td><td>&quot;ST500LM012 HN&quot;</td><td>500107862016</td><td>0</td><td>&quot;sac0&quot;</td><td>0</td><td>1021</td><td>0</td><td>null</td></tr><tr><td>&quot;2024-07-01&quot;</td><td>&quot;Z3056CGY&quot;</td><td>&quot;ST4000DM000&quot;</td><td>4000787030016</td><td>0</td><td>&quot;sac0&quot;</td><td>0</td><td>1021</td><td>0</td><td>21</td></tr></tbody></table></div>"
      ],
      "text/plain": [
       "shape: (4, 10)\n",
       "┌────────────┬────────────┬────────────┬───────────┬───┬───────────┬──────────┬────────┬───────────┐\n",
       "│ date       ┆ serial_num ┆ model      ┆ capacity_ ┆ … ┆ cluster_i ┆ vault_id ┆ pod_id ┆ pod_slot_ │\n",
       "│ ---        ┆ ber        ┆ ---        ┆ bytes     ┆   ┆ d         ┆ ---      ┆ ---    ┆ num       │\n",
       "│ str        ┆ ---        ┆ str        ┆ ---       ┆   ┆ ---       ┆ i64      ┆ i64    ┆ ---       │\n",
       "│            ┆ str        ┆            ┆ i64       ┆   ┆ i64       ┆          ┆        ┆ i64       │\n",
       "╞════════════╪════════════╪════════════╪═══════════╪═══╪═══════════╪══════════╪════════╪═══════════╡\n",
       "│ 2024-07-01 ┆ PL1331LAGX ┆ HGST HDS5C ┆ 400078703 ┆ … ┆ 0         ┆ 1021     ┆ 0      ┆ 39        │\n",
       "│            ┆ N3AH       ┆ 4040ALE630 ┆ 0016      ┆   ┆           ┆          ┆        ┆           │\n",
       "│ 2024-07-01 ┆ PL2331LAGS ┆ HGST HMS5C ┆ 400078703 ┆ … ┆ 0         ┆ 1021     ┆ 0      ┆ 0         │\n",
       "│            ┆ TSYJ       ┆ 4040ALE640 ┆ 0016      ┆   ┆           ┆          ┆        ┆           │\n",
       "│ 2024-07-01 ┆ S2ZYJ9FG40 ┆ ST500LM012 ┆ 500107862 ┆ … ┆ 0         ┆ 1021     ┆ 0      ┆ null      │\n",
       "│            ┆ 5079       ┆ HN         ┆ 016       ┆   ┆           ┆          ┆        ┆           │\n",
       "│ 2024-07-01 ┆ Z3056CGY   ┆ ST4000DM00 ┆ 400078703 ┆ … ┆ 0         ┆ 1021     ┆ 0      ┆ 21        │\n",
       "│            ┆            ┆ 0          ┆ 0016      ┆   ┆           ┆          ┆        ┆           │\n",
       "└────────────┴────────────┴────────────┴───────────┴───┴───────────┴──────────┴────────┴───────────┘"
      ]
     },
     "execution_count": 8,
     "metadata": {},
     "output_type": "execute_result"
    }
   ],
   "source": [
    "columns = ['date','serial_number','model','capacity_bytes','failure','datacenter','cluster_id','vault_id','pod_id','pod_slot_num']\n",
    "\n",
    "df_cleaned = df.select(*columns)\n",
    "df_cleaned"
   ]
  },
  {
   "cell_type": "code",
   "execution_count": 9,
   "metadata": {},
   "outputs": [],
   "source": [
    "df = pl.DataFrame({\n",
    "    \"date\": ['2024-12-30'], \n",
    "    \"model\": ['ST4000DM000'], \n",
    "    \"failure_rate\": [0]\n",
    "})"
   ]
  },
  {
   "cell_type": "code",
   "execution_count": 10,
   "metadata": {},
   "outputs": [
    {
     "data": {
      "text/html": [
       "<div><style>\n",
       ".dataframe > thead > tr,\n",
       ".dataframe > tbody > tr {\n",
       "  text-align: right;\n",
       "  white-space: pre-wrap;\n",
       "}\n",
       "</style>\n",
       "<small>shape: (1, 3)</small><table border=\"1\" class=\"dataframe\"><thead><tr><th>date</th><th>model</th><th>failure_rate</th></tr><tr><td>str</td><td>str</td><td>i64</td></tr></thead><tbody><tr><td>&quot;2024-12-30&quot;</td><td>&quot;ST4000DM000&quot;</td><td>0</td></tr></tbody></table></div>"
      ],
      "text/plain": [
       "shape: (1, 3)\n",
       "┌────────────┬─────────────┬──────────────┐\n",
       "│ date       ┆ model       ┆ failure_rate │\n",
       "│ ---        ┆ ---         ┆ ---          │\n",
       "│ str        ┆ str         ┆ i64          │\n",
       "╞════════════╪═════════════╪══════════════╡\n",
       "│ 2024-12-30 ┆ ST4000DM000 ┆ 0            │\n",
       "└────────────┴─────────────┴──────────────┘"
      ]
     },
     "execution_count": 10,
     "metadata": {},
     "output_type": "execute_result"
    }
   ],
   "source": [
    "df"
   ]
  }
 ],
 "metadata": {
  "kernelspec": {
   "display_name": "usr",
   "language": "python",
   "name": "python3"
  },
  "language_info": {
   "codemirror_mode": {
    "name": "ipython",
    "version": 3
   },
   "file_extension": ".py",
   "mimetype": "text/x-python",
   "name": "python",
   "nbconvert_exporter": "python",
   "pygments_lexer": "ipython3",
   "version": "3.13.0"
  }
 },
 "nbformat": 4,
 "nbformat_minor": 2
}
